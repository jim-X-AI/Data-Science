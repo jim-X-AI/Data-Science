{
 "cells": [
  {
   "cell_type": "markdown",
   "id": "dbbed16c-cb0b-4de5-9c4b-a2a45e8948fd",
   "metadata": {},
   "source": [
    "# END TO END MACHINE LEARNING PROJECT EXANPLE\n",
    "\n",
    "## Most of the time there are 8 steps you'll usually go through in ML\n",
    "## 1. Look at the big Picture\n",
    "## 2. Get the Data\n",
    "## 3. Discover and Visusalise the data to get insights\n",
    "## 4. Prepare the data for machine learning algorithm\n",
    "## 5. Select a Model and train it\n",
    "## 6. Fine Tune Your model\n",
    "## 7. Present Your solution\n",
    "## 8. Launch Monitor and maintain your system|"
   ]
  },
  {
   "cell_type": "code",
   "execution_count": null,
   "id": "b1d5a1c7-151e-46a6-ae2e-73f8a4906949",
   "metadata": {},
   "outputs": [],
   "source": []
  },
  {
   "cell_type": "code",
   "execution_count": null,
   "id": "be38de21-0258-4230-a579-c1632c670bd9",
   "metadata": {},
   "outputs": [],
   "source": []
  },
  {
   "cell_type": "markdown",
   "id": "6e62d593-96cc-41b4-ad06-94b403b7e1c1",
   "metadata": {},
   "source": [
    "## Popular open data repositories\n",
    "UC Irvine Machine Learning Repository\n",
    "\n",
    "Kaggle datasets\n",
    "\n",
    "Amazon’s AWS datasets\n",
    "\n",
    "## Meta portals (they list open data repositories)\r",
    " Data Portal\n",
    "\n",
    "\n",
    " OpenDataMonit\n",
    "    \r\n",
    " ndl\n",
    "\n",
    "##  Other pages listing many popular open data repositories\r",
    "Wikipedia’s list of Machine Learning datasets\n",
    "\n",
    "\n",
    "Quora.co\n",
    "\n",
    "\n",
    "The datasets subreditdditndl"
   ]
  },
  {
   "cell_type": "code",
   "execution_count": 2,
   "id": "648bb0ec-aef3-4020-b1e9-057564c0dd5c",
   "metadata": {},
   "outputs": [],
   "source": [
    "import os\n",
    "import tarfile\n",
    "import urllib"
   ]
  },
  {
   "cell_type": "code",
   "execution_count": 3,
   "id": "ee4bc6e8-74bb-4b6b-871b-4915bd2ff6ca",
   "metadata": {},
   "outputs": [],
   "source": [
    "DOWNLOAD_PATH = r\"https://raw.githubusercontent.com/ageron/handsonml2/master/\"\n",
    "\n",
    "HOUSING_PATH = os.path.join(\"datasets\", \"housing\")\n",
    "\n",
    "HOUSING_URL = DOWNLOAD_PATH + r\"datasets/housing/housing.tgz\""
   ]
  },
  {
   "cell_type": "code",
   "execution_count": null,
   "id": "e2b69250-4694-405b-b9e4-ad752cc41811",
   "metadata": {},
   "outputs": [],
   "source": [
    "def fetch_data(housing_url=HOUSING_URL)"
   ]
  }
 ],
 "metadata": {
  "kernelspec": {
   "display_name": "Python 3 (ipykernel)",
   "language": "python",
   "name": "python3"
  },
  "language_info": {
   "codemirror_mode": {
    "name": "ipython",
    "version": 3
   },
   "file_extension": ".py",
   "mimetype": "text/x-python",
   "name": "python",
   "nbconvert_exporter": "python",
   "pygments_lexer": "ipython3",
   "version": "3.11.7"
  },
  "widgets": {
   "application/vnd.jupyter.widget-state+json": {
    "state": {},
    "version_major": 2,
    "version_minor": 0
   }
  }
 },
 "nbformat": 4,
 "nbformat_minor": 5
}
